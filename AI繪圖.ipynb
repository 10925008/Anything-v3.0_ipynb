{
  "nbformat": 4,
  "nbformat_minor": 0,
  "metadata": {
    "colab": {
      "provenance": [],
      "collapsed_sections": [
        "DUzfXosjO4X5"
      ],
      "authorship_tag": "ABX9TyOj+lnLz3gIRKYHL0iZhazM",
      "include_colab_link": true
    },
    "kernelspec": {
      "name": "python3",
      "display_name": "Python 3"
    },
    "language_info": {
      "name": "python"
    },
    "accelerator": "GPU",
    "gpuClass": "standard"
  },
  "cells": [
    {
      "cell_type": "markdown",
      "metadata": {
        "id": "view-in-github",
        "colab_type": "text"
      },
      "source": [
        "<a href=\"https://colab.research.google.com/github/10925008/Anything-v3.0_ipynb/blob/main/AI%E7%B9%AA%E5%9C%96.ipynb\" target=\"_parent\"><img src=\"https://colab.research.google.com/assets/colab-badge.svg\" alt=\"Open In Colab\"/></a>"
      ]
    },
    {
      "cell_type": "markdown",
      "source": [
        "#連接雲端"
      ],
      "metadata": {
        "id": "TS6onnX2N9jK"
      }
    },
    {
      "cell_type": "code",
      "execution_count": null,
      "metadata": {
        "id": "RFmpzOYKNlaa"
      },
      "outputs": [],
      "source": [
        "from google.colab import drive\n",
        "drive.mount( \"/content/drive/\")"
      ]
    },
    {
      "cell_type": "markdown",
      "source": [
        "#檔案下載\n",
        "\n"
      ],
      "metadata": {
        "id": "DUzfXosjO4X5"
      }
    },
    {
      "cell_type": "markdown",
      "source": [
        "##下載 stable-diffusion-webui"
      ],
      "metadata": {
        "id": "JUxS0go0s8Sn"
      }
    },
    {
      "cell_type": "code",
      "source": [
        "!git clone https://github.com/AUTOMATIC1111/stable-diffusion-webui\n",
        "%cd stable-diffusion-webui\n",
        "!git pull"
      ],
      "metadata": {
        "id": "eQvd3EU9s8St"
      },
      "execution_count": null,
      "outputs": []
    },
    {
      "cell_type": "markdown",
      "source": [
        "##下載 anything-v3-fp32-pruned.safetensors(如有下載過可省略此步驟)"
      ],
      "metadata": {
        "id": "7sWnUVZLPGNH"
      }
    },
    {
      "cell_type": "markdown",
      "source": [
        "如有下載過可省略此步驟"
      ],
      "metadata": {
        "id": "GW3do0tyOQPB"
      }
    },
    {
      "cell_type": "code",
      "source": [
        "%cd /content/drive/MyDrive\n",
        "\n",
        "from google.colab import files\n",
        "import os\n",
        "\n",
        "if not os.path.exists('AnythingV3.0/anything-v3-fp32-pruned.safetensors'):\n",
        "  !mkdir AnythingV3.0\n",
        "  %cd AnythingV3.0\n",
        "  print(\"下載模型...\") \n",
        "  !wget https://huggingface.co/Linaqruf/anything-v3.0/resolve/main/anything-v3-fp32-pruned.safetensors\n",
        "print(\"複製檔案中...\")\n",
        "!cp /content/drive/MyDrive/AnythingV3.0/anything-v3-fp32-pruned.safetensors /content/stable-diffusion-webui/models/Stable-diffusion/"
      ],
      "metadata": {
        "id": "95nHERgCPJ8i"
      },
      "execution_count": null,
      "outputs": []
    },
    {
      "cell_type": "markdown",
      "source": [
        "#前置作業"
      ],
      "metadata": {
        "id": "nozsBMMCNupB"
      }
    },
    {
      "cell_type": "markdown",
      "source": [
        "##導入模型"
      ],
      "metadata": {
        "id": "0UdijMMCOVh4"
      }
    },
    {
      "cell_type": "code",
      "source": [
        "%cd /content/drive/MyDrive/AnythingV3.0\n",
        "\n",
        "import os\n",
        "\n",
        "if os.path.exists('anything-v3-fp32-pruned.safetensors'):\n",
        "  !cp /content/drive/MyDrive/AnythingV3.0/anything-v3-fp32-pruned.safetensors /content/stable-diffusion-webui/models/Stable-diffusion/"
      ],
      "metadata": {
        "id": "Uecds5u0OXG4"
      },
      "execution_count": null,
      "outputs": []
    },
    {
      "cell_type": "markdown",
      "source": [
        "##導入設定檔"
      ],
      "metadata": {
        "id": "XPh6NxFDOaFI"
      }
    },
    {
      "cell_type": "code",
      "source": [
        "%cd /content/drive/MyDrive/AnythingV3.0\n",
        "\n",
        "import os\n",
        "\n",
        "if os.path.exists('config.json'):\n",
        "  !cp /content/drive/MyDrive/AnythingV3.0/config.json /content/stable-diffusion-webui/\n",
        "if os.path.exists('styles.csv'):\n",
        "  !cp /content/drive/MyDrive/AnythingV3.0/styles.csv /content/stable-diffusion-webui/"
      ],
      "metadata": {
        "id": "XEYQVA8ZPghP"
      },
      "execution_count": null,
      "outputs": []
    },
    {
      "cell_type": "markdown",
      "source": [
        "##載入環境"
      ],
      "metadata": {
        "id": "zaerjOhLPjFw"
      }
    },
    {
      "cell_type": "code",
      "source": [
        "%cd /content/stable-diffusion-webui\n",
        "!COMMANDLINE_ARGS=\"--exit\" REQS_FILE=\"requirements.txt\" python launch.py"
      ],
      "metadata": {
        "id": "Fb0UJ8qPPnEA"
      },
      "execution_count": null,
      "outputs": []
    },
    {
      "cell_type": "markdown",
      "source": [
        "#執行程式"
      ],
      "metadata": {
        "id": "7bQke2fZPwV_"
      }
    },
    {
      "cell_type": "code",
      "source": [
        "%cd /content/AnythingV3.0/stable-diffusion-webui\n",
        "!COMMANDLINE_ARGS=\"--share --gradio-debug\" REQS_FILE=\"requirements.txt\" python launch.py"
      ],
      "metadata": {
        "id": "rLyni0KMPyVH"
      },
      "execution_count": null,
      "outputs": []
    },
    {
      "cell_type": "markdown",
      "source": [
        "執行後點擊 \"Running on public URL\" 的連結即可使用"
      ],
      "metadata": {
        "id": "f6oWyLd9Sa4X"
      }
    },
    {
      "cell_type": "markdown",
      "source": [
        "#保存作業(需先停止\"執行程式\"後才可執行)"
      ],
      "metadata": {
        "id": "x9-LfJ18QFO_"
      }
    },
    {
      "cell_type": "markdown",
      "source": [
        "需先停止\"執行程式\"後才可執行"
      ],
      "metadata": {
        "id": "UGiVl1sEQkL4"
      }
    },
    {
      "cell_type": "markdown",
      "source": [
        "##保存設定檔"
      ],
      "metadata": {
        "id": "4YMVsH_1QIsQ"
      }
    },
    {
      "cell_type": "code",
      "source": [
        "!cp -r /content/stable-diffusion-webui/config.json /content/drive/MyDrive/AnythingV3.0/\n",
        "!cp -r /content/stable-diffusion-webui/styles.csv /content/drive/MyDrive/AnythingV3.0/"
      ],
      "metadata": {
        "id": "Cuk6ydfLQHdn"
      },
      "execution_count": null,
      "outputs": []
    },
    {
      "cell_type": "markdown",
      "source": [
        "##保存圖片"
      ],
      "metadata": {
        "id": "Qc0TRF5vQN4I"
      }
    },
    {
      "cell_type": "markdown",
      "source": [
        "將圖片存在AnythingV3.0 內的 outputs 資料夾中"
      ],
      "metadata": {
        "id": "cM4yvmVvQdFI"
      }
    },
    {
      "cell_type": "code",
      "source": [
        "!cp -r /content/stable-diffusion-webui/outputs /content/drive/MyDrive/AnythingV3.0/"
      ],
      "metadata": {
        "id": "PR4ZrTiMQPhR"
      },
      "execution_count": 10,
      "outputs": []
    }
  ]
}