{
  "nbformat": 4,
  "nbformat_minor": 0,
  "metadata": {
    "colab": {
      "provenance": [],
      "collapsed_sections": [
        "DUzfXosjO4X5"
      ],
      "authorship_tag": "ABX9TyNFjmvF35Qnxru0yy2egPIh",
      "include_colab_link": true
    },
    "kernelspec": {
      "name": "python3",
      "display_name": "Python 3"
    },
    "language_info": {
      "name": "python"
    },
    "accelerator": "GPU",
    "gpuClass": "standard"
  },
  "cells": [
    {
      "cell_type": "markdown",
      "metadata": {
        "id": "view-in-github",
        "colab_type": "text"
      },
      "source": [
        "<a href=\"https://colab.research.google.com/github/10925008/Anything-v3.0_ipynb/blob/main/AI%E7%B9%AA%E5%9C%96.ipynb\" target=\"_parent\"><img src=\"https://colab.research.google.com/assets/colab-badge.svg\" alt=\"Open In Colab\"/></a>"
      ]
    },
    {
      "cell_type": "markdown",
      "source": [
        "#連接雲端"
      ],
      "metadata": {
        "id": "TS6onnX2N9jK"
      }
    },
    {
      "cell_type": "code",
      "execution_count": null,
      "metadata": {
        "id": "RFmpzOYKNlaa",
        "colab": {
          "base_uri": "https://localhost:8080/"
        },
        "outputId": "ab928f48-8049-47dc-da96-9cd6b3f64f35"
      },
      "outputs": [
        {
          "output_type": "stream",
          "name": "stdout",
          "text": [
            "Drive already mounted at /content/drive/; to attempt to forcibly remount, call drive.mount(\"/content/drive/\", force_remount=True).\n"
          ]
        }
      ],
      "source": [
        "from google.colab import drive\n",
        "drive.mount( \"/content/drive/\")"
      ]
    },
    {
      "cell_type": "markdown",
      "source": [
        "#檔案下載(僅首次使用需下載)"
      ],
      "metadata": {
        "id": "DUzfXosjO4X5"
      }
    },
    {
      "cell_type": "markdown",
      "source": [
        "僅首次使用需下載"
      ],
      "metadata": {
        "id": "vCTWH_4lQ4Eh"
      }
    },
    {
      "cell_type": "markdown",
      "source": [
        "##下載 stable-diffusion-webui"
      ],
      "metadata": {
        "id": "JUxS0go0s8Sn"
      }
    },
    {
      "cell_type": "code",
      "source": [
        "!git clone https://github.com/AUTOMATIC1111/stable-diffusion-webui\n",
        "%cd stable-diffusion-webui\n",
        "!git pull"
      ],
      "metadata": {
        "colab": {
          "base_uri": "https://localhost:8080/"
        },
        "outputId": "8d60ad6c-3655-4651-cf06-1d6fac46a7fb",
        "id": "eQvd3EU9s8St"
      },
      "execution_count": null,
      "outputs": [
        {
          "output_type": "stream",
          "name": "stdout",
          "text": [
            "Cloning into 'stable-diffusion-webui'...\n",
            "remote: Enumerating objects: 17850, done.\u001b[K\n",
            "remote: Total 17850 (delta 0), reused 0 (delta 0), pack-reused 17850\u001b[K\n",
            "Receiving objects: 100% (17850/17850), 28.27 MiB | 11.30 MiB/s, done.\n",
            "Resolving deltas: 100% (12491/12491), done.\n",
            "Updating files: 100% (203/203), done.\n",
            "/content/drive/MyDrive/AnythingV3.0/stable-diffusion-webui\n",
            "Already up to date.\n"
          ]
        }
      ]
    },
    {
      "cell_type": "markdown",
      "source": [
        "##下載 anything-v3-fp32-pruned.safetensors"
      ],
      "metadata": {
        "id": "7sWnUVZLPGNH"
      }
    },
    {
      "cell_type": "code",
      "source": [
        "%cd /content/drive/MyDrive\n",
        "\n",
        "from google.colab import files\n",
        "import os\n",
        "\n",
        "if not os.path.exists('AnythingV3.0/anything-v3-fp32-pruned.safetensors'):\n",
        "  !mkdir AnythingV3.0\n",
        "  %cd AnythingV3.0\n",
        "  print(\"下載模型...\") \n",
        "  !wget https://huggingface.co/Linaqruf/anything-v3.0/resolve/main/anything-v3-fp32-pruned.safetensors\n",
        "print(\"複製檔案中...\")\n",
        "!cp /content/drive/MyDrive/AnythingV3.0/anything-v3-fp32-pruned.safetensors /content/stable-diffusion-webui/models/Stable-diffusion/"
      ],
      "metadata": {
        "colab": {
          "base_uri": "https://localhost:8080/"
        },
        "id": "95nHERgCPJ8i",
        "outputId": "f405f764-9648-4118-f017-ec6415a02fa4"
      },
      "execution_count": null,
      "outputs": [
        {
          "output_type": "stream",
          "name": "stdout",
          "text": [
            "/content/drive/MyDrive\n",
            "/content/drive/MyDrive/AnythingV3.0\n",
            "下載模型...\n",
            "--2023-04-16 10:51:22--  https://huggingface.co/Linaqruf/anything-v3.0/resolve/main/anything-v3-fp32-pruned.safetensors\n",
            "Resolving huggingface.co (huggingface.co)... 13.224.249.86, 13.224.249.89, 13.224.249.35, ...\n",
            "Connecting to huggingface.co (huggingface.co)|13.224.249.86|:443... connected.\n",
            "HTTP request sent, awaiting response... 302 Found\n",
            "Location: https://cdn-lfs.huggingface.co/repos/68/1a/681af8dc2d78e74e5f6a9f0ec0869291220ff024da5d4ba3a76b08e9fd3f4d6f/308884898741f81f4dbe32a7806a26c28b594d8ea21310fbed5c5dcecff6aa32?response-content-disposition=attachment%3B+filename*%3DUTF-8%27%27anything-v3-fp32-pruned.safetensors%3B+filename%3D%22anything-v3-fp32-pruned.safetensors%22%3B&Expires=1681899824&Policy=eyJTdGF0ZW1lbnQiOlt7IlJlc291cmNlIjoiaHR0cHM6Ly9jZG4tbGZzLmh1Z2dpbmdmYWNlLmNvL3JlcG9zLzY4LzFhLzY4MWFmOGRjMmQ3OGU3NGU1ZjZhOWYwZWMwODY5MjkxMjIwZmYwMjRkYTVkNGJhM2E3NmIwOGU5ZmQzZjRkNmYvMzA4ODg0ODk4NzQxZjgxZjRkYmUzMmE3ODA2YTI2YzI4YjU5NGQ4ZWEyMTMxMGZiZWQ1YzVkY2VjZmY2YWEzMj9yZXNwb25zZS1jb250ZW50LWRpc3Bvc2l0aW9uPSoiLCJDb25kaXRpb24iOnsiRGF0ZUxlc3NUaGFuIjp7IkFXUzpFcG9jaFRpbWUiOjE2ODE4OTk4MjR9fX1dfQ__&Signature=F4gUowd3ak8yJOCgtGquMQlKYXqbzxlDI-weaGy2f4KKYEfxyfaBT5m3P5CLkEPh39pnUJrjiWvopWyJ3cR3nOyDFJnR9GPi3q-VDACzsJGRACUqylP3bWAcBVsuYkLne9LSMvlC8fKVloEeI2sxG6j95kC3lN4cqWkH8sFfCQMRsUVvyRzNfOSOvR7dnbJcicGHV%7ESrQQKQ3qwd9dl8ikam%7ErewcAM%7Eqh5GUZ1fouX-d1iy4ez13nvY6ADl4Y0D3U8EZNBKQkdfBTwRzNeKp-L3r4jBZZH4bNoitVF6PpyvMjPlKDDrywNjjSe3Ee%7EWnxh0F-yZ9jlFJBAHmy1EhA__&Key-Pair-Id=KVTP0A1DKRTAX [following]\n",
            "--2023-04-16 10:51:22--  https://cdn-lfs.huggingface.co/repos/68/1a/681af8dc2d78e74e5f6a9f0ec0869291220ff024da5d4ba3a76b08e9fd3f4d6f/308884898741f81f4dbe32a7806a26c28b594d8ea21310fbed5c5dcecff6aa32?response-content-disposition=attachment%3B+filename*%3DUTF-8%27%27anything-v3-fp32-pruned.safetensors%3B+filename%3D%22anything-v3-fp32-pruned.safetensors%22%3B&Expires=1681899824&Policy=eyJTdGF0ZW1lbnQiOlt7IlJlc291cmNlIjoiaHR0cHM6Ly9jZG4tbGZzLmh1Z2dpbmdmYWNlLmNvL3JlcG9zLzY4LzFhLzY4MWFmOGRjMmQ3OGU3NGU1ZjZhOWYwZWMwODY5MjkxMjIwZmYwMjRkYTVkNGJhM2E3NmIwOGU5ZmQzZjRkNmYvMzA4ODg0ODk4NzQxZjgxZjRkYmUzMmE3ODA2YTI2YzI4YjU5NGQ4ZWEyMTMxMGZiZWQ1YzVkY2VjZmY2YWEzMj9yZXNwb25zZS1jb250ZW50LWRpc3Bvc2l0aW9uPSoiLCJDb25kaXRpb24iOnsiRGF0ZUxlc3NUaGFuIjp7IkFXUzpFcG9jaFRpbWUiOjE2ODE4OTk4MjR9fX1dfQ__&Signature=F4gUowd3ak8yJOCgtGquMQlKYXqbzxlDI-weaGy2f4KKYEfxyfaBT5m3P5CLkEPh39pnUJrjiWvopWyJ3cR3nOyDFJnR9GPi3q-VDACzsJGRACUqylP3bWAcBVsuYkLne9LSMvlC8fKVloEeI2sxG6j95kC3lN4cqWkH8sFfCQMRsUVvyRzNfOSOvR7dnbJcicGHV%7ESrQQKQ3qwd9dl8ikam%7ErewcAM%7Eqh5GUZ1fouX-d1iy4ez13nvY6ADl4Y0D3U8EZNBKQkdfBTwRzNeKp-L3r4jBZZH4bNoitVF6PpyvMjPlKDDrywNjjSe3Ee%7EWnxh0F-yZ9jlFJBAHmy1EhA__&Key-Pair-Id=KVTP0A1DKRTAX\n",
            "Resolving cdn-lfs.huggingface.co (cdn-lfs.huggingface.co)... 54.192.150.69, 54.192.150.19, 54.192.150.84, ...\n",
            "Connecting to cdn-lfs.huggingface.co (cdn-lfs.huggingface.co)|54.192.150.69|:443... connected.\n",
            "HTTP request sent, awaiting response... 200 OK\n",
            "Length: 4265096689 (4.0G) [binary/octet-stream]\n",
            "Saving to: ‘anything-v3-fp32-pruned.safetensors’\n",
            "\n",
            "anything-v3-fp32-pr 100%[===================>]   3.97G  57.3MB/s    in 66s     \n",
            "\n",
            "2023-04-16 10:52:28 (61.6 MB/s) - ‘anything-v3-fp32-pruned.safetensors’ saved [4265096689/4265096689]\n",
            "\n",
            "複製檔案中...\n",
            "cp: cannot create regular file '/content/stable-diffusion-webui/models/Stable-diffusion/': No such file or directory\n"
          ]
        }
      ]
    },
    {
      "cell_type": "markdown",
      "source": [
        "#前置作業"
      ],
      "metadata": {
        "id": "nozsBMMCNupB"
      }
    },
    {
      "cell_type": "markdown",
      "source": [
        "##下載 stable-diffusion-webui"
      ],
      "metadata": {
        "id": "VHBwdW_cOJp4"
      }
    },
    {
      "cell_type": "code",
      "source": [
        "!git clone https://github.com/AUTOMATIC1111/stable-diffusion-webui\n",
        "%cd stable-diffusion-webui\n",
        "!git pull"
      ],
      "metadata": {
        "colab": {
          "base_uri": "https://localhost:8080/"
        },
        "id": "aLFm4SBkOKCA",
        "outputId": "8d60ad6c-3655-4651-cf06-1d6fac46a7fb"
      },
      "execution_count": null,
      "outputs": [
        {
          "output_type": "stream",
          "name": "stdout",
          "text": [
            "Cloning into 'stable-diffusion-webui'...\n",
            "remote: Enumerating objects: 17850, done.\u001b[K\n",
            "remote: Total 17850 (delta 0), reused 0 (delta 0), pack-reused 17850\u001b[K\n",
            "Receiving objects: 100% (17850/17850), 28.27 MiB | 11.30 MiB/s, done.\n",
            "Resolving deltas: 100% (12491/12491), done.\n",
            "Updating files: 100% (203/203), done.\n",
            "/content/drive/MyDrive/AnythingV3.0/stable-diffusion-webui\n",
            "Already up to date.\n"
          ]
        }
      ]
    },
    {
      "cell_type": "markdown",
      "source": [
        "##導入模型"
      ],
      "metadata": {
        "id": "0UdijMMCOVh4"
      }
    },
    {
      "cell_type": "code",
      "source": [
        "%cd /content/drive/MyDrive/AnythingV3.0\n",
        "\n",
        "import os\n",
        "\n",
        "if os.path.exists('anything-v3-fp32-pruned.safetensors'):\n",
        "  !cp /content/drive/MyDrive/AnythingV3.0/anything-v3-fp32-pruned.safetensors /content/stable-diffusion-webui/models/Stable-diffusion/"
      ],
      "metadata": {
        "colab": {
          "base_uri": "https://localhost:8080/"
        },
        "id": "Uecds5u0OXG4",
        "outputId": "03584121-2c55-4cac-b19f-bb3a61f8ee32"
      },
      "execution_count": null,
      "outputs": [
        {
          "output_type": "stream",
          "name": "stdout",
          "text": [
            "/content/drive/MyDrive/AnythingV3.0\n"
          ]
        }
      ]
    },
    {
      "cell_type": "markdown",
      "source": [
        "##導入設定檔"
      ],
      "metadata": {
        "id": "XPh6NxFDOaFI"
      }
    },
    {
      "cell_type": "code",
      "source": [
        "%cd /content/drive/MyDrive/AnythingV3.0\n",
        "\n",
        "import os\n",
        "\n",
        "if os.path.exists('config.json'):\n",
        "  !cp /content/drive/MyDrive/AnythingV3.0/config.json /content/stable-diffusion-webui/\n",
        "if os.path.exists('styles.csv'):\n",
        "  !cp /content/drive/MyDrive/AnythingV3.0/styles.csv /content/stable-diffusion-webui/"
      ],
      "metadata": {
        "colab": {
          "base_uri": "https://localhost:8080/"
        },
        "id": "XEYQVA8ZPghP",
        "outputId": "73245c4c-ac9d-4372-b61f-6b374dd0d165"
      },
      "execution_count": null,
      "outputs": [
        {
          "output_type": "stream",
          "name": "stdout",
          "text": [
            "/content/drive/MyDrive/AnythingV3.0\n"
          ]
        }
      ]
    },
    {
      "cell_type": "markdown",
      "source": [
        "##載入環境"
      ],
      "metadata": {
        "id": "zaerjOhLPjFw"
      }
    },
    {
      "cell_type": "code",
      "source": [
        "%cd /content/stable-diffusion-webui\n",
        "!COMMANDLINE_ARGS=\"--exit\" REQS_FILE=\"requirements.txt\" python launch.py"
      ],
      "metadata": {
        "colab": {
          "base_uri": "https://localhost:8080/"
        },
        "id": "Fb0UJ8qPPnEA",
        "outputId": "b08b9503-9af7-4961-c479-da4e419d9080"
      },
      "execution_count": null,
      "outputs": [
        {
          "output_type": "stream",
          "name": "stdout",
          "text": [
            "/content/stable-diffusion-webui\n",
            "Python 3.9.16 (main, Dec  7 2022, 01:11:51) \n",
            "[GCC 9.4.0]\n",
            "Commit hash: 22bcc7be428c94e9408f589966c2040187245d81\n",
            "Installing gfpgan\n",
            "Installing clip\n",
            "Installing open_clip\n",
            "Cloning Stable Diffusion into /content/stable-diffusion-webui/repositories/stable-diffusion-stability-ai...\n",
            "Cloning Taming Transformers into /content/stable-diffusion-webui/repositories/taming-transformers...\n",
            "Cloning K-diffusion into /content/stable-diffusion-webui/repositories/k-diffusion...\n",
            "Cloning CodeFormer into /content/stable-diffusion-webui/repositories/CodeFormer...\n",
            "Cloning BLIP into /content/stable-diffusion-webui/repositories/BLIP...\n",
            "Installing requirements for CodeFormer\n",
            "Installing requirements for Web UI\n",
            "Exiting because of --exit argument\n"
          ]
        }
      ]
    },
    {
      "cell_type": "markdown",
      "source": [
        "#執行程式"
      ],
      "metadata": {
        "id": "7bQke2fZPwV_"
      }
    },
    {
      "cell_type": "code",
      "source": [
        "%cd /content/AnythingV3.0/stable-diffusion-webui\n",
        "!COMMANDLINE_ARGS=\"--share --gradio-debug\" REQS_FILE=\"requirements.txt\" python launch.py"
      ],
      "metadata": {
        "id": "rLyni0KMPyVH",
        "colab": {
          "base_uri": "https://localhost:8080/"
        },
        "outputId": "1e915acd-f39a-4fb9-a2fd-8e0a3b6ca0ef"
      },
      "execution_count": null,
      "outputs": [
        {
          "output_type": "stream",
          "name": "stdout",
          "text": [
            "[Errno 2] No such file or directory: '/content/AnythingV3.0/stable-diffusion-webui'\n",
            "/content/stable-diffusion-webui\n",
            "Python 3.9.16 (main, Dec  7 2022, 01:11:51) \n",
            "[GCC 9.4.0]\n",
            "Commit hash: 22bcc7be428c94e9408f589966c2040187245d81\n",
            "Installing requirements for Web UI\n",
            "Launching Web UI with arguments: --share --gradio-debug\n",
            "2023-04-16 10:46:59.292851: I tensorflow/core/platform/cpu_feature_guard.cc:182] This TensorFlow binary is optimized to use available CPU instructions in performance-critical operations.\n",
            "To enable the following instructions: AVX2 FMA, in other operations, rebuild TensorFlow with the appropriate compiler flags.\n",
            "2023-04-16 10:47:01.188230: W tensorflow/compiler/tf2tensorrt/utils/py_utils.cc:38] TF-TRT Warning: Could not find TensorRT\n",
            "No module 'xformers'. Proceeding without it.\n",
            "/usr/local/lib/python3.9/dist-packages/torchvision/transforms/functional_tensor.py:5: UserWarning: The torchvision.transforms.functional_tensor module is deprecated in 0.15 and will be **removed in 0.17**. Please don't rely on it. You probably just need to use APIs in torchvision.transforms.functional or in torchvision.transforms.v2.functional.\n",
            "  warnings.warn(\n",
            "Calculating sha256 for /content/stable-diffusion-webui/models/Stable-diffusion/anything-v3-fp32-pruned.safetensors: 308884898741f81f4dbe32a7806a26c28b594d8ea21310fbed5c5dcecff6aa32\n",
            "Loading weights [3088848987] from /content/stable-diffusion-webui/models/Stable-diffusion/anything-v3-fp32-pruned.safetensors\n",
            "Creating model from config: /content/stable-diffusion-webui/configs/v1-inference.yaml\n",
            "LatentDiffusion: Running in eps-prediction mode\n",
            "DiffusionWrapper has 859.52 M params.\n",
            "Downloading (…)olve/main/vocab.json: 100% 961k/961k [00:00<00:00, 16.6MB/s]\n",
            "Downloading (…)olve/main/merges.txt: 100% 525k/525k [00:00<00:00, 10.8MB/s]\n",
            "Downloading (…)cial_tokens_map.json: 100% 389/389 [00:00<00:00, 123kB/s]\n",
            "Downloading (…)okenizer_config.json: 100% 905/905 [00:00<00:00, 267kB/s]\n",
            "Downloading (…)lve/main/config.json: 100% 4.52k/4.52k [00:00<00:00, 546kB/s]\n",
            "Applying cross attention optimization (Doggettx).\n",
            "Textual inversion embeddings loaded(0): \n",
            "Model loaded in 55.2s (calculate hash: 24.1s, load weights from disk: 0.7s, create model: 2.4s, apply weights to model: 17.9s, apply half(): 1.4s, load VAE: 7.9s, move model to device: 0.7s).\n",
            "Running on local URL:  http://127.0.0.1:7860\n",
            "Running on public URL: https://39d0120f0ac61ba3c7.gradio.live\n",
            "\n",
            "This share link expires in 72 hours. For free permanent hosting and GPU upgrades (NEW!), check out Spaces: https://huggingface.co/spaces\n",
            "Interrupted with signal 2 in <frame at 0x44117370, file '/usr/local/lib/python3.9/dist-packages/gradio/blocks.py', line 1735, code block_thread>\n",
            "Interrupted with signal 2 in <frame at 0x7faf3592b3c0, file '/content/stable-diffusion-webui/webui.py', line 184, code sigint_handler>\n"
          ]
        }
      ]
    },
    {
      "cell_type": "markdown",
      "source": [
        "執行後點擊 \"Running on public URL\" 的連結即可使用"
      ],
      "metadata": {
        "id": "f6oWyLd9Sa4X"
      }
    },
    {
      "cell_type": "markdown",
      "source": [
        "#保存作業(需先停止\"執行程式\"後才可執行)"
      ],
      "metadata": {
        "id": "x9-LfJ18QFO_"
      }
    },
    {
      "cell_type": "markdown",
      "source": [
        "需先停止\"執行程式\"後才可執行"
      ],
      "metadata": {
        "id": "UGiVl1sEQkL4"
      }
    },
    {
      "cell_type": "markdown",
      "source": [
        "##保存設定檔"
      ],
      "metadata": {
        "id": "4YMVsH_1QIsQ"
      }
    },
    {
      "cell_type": "code",
      "source": [
        "!cp -r /content/stable-diffusion-webui/config.json /content/drive/MyDrive/AnythingV3.0/\n",
        "!cp -r /content/stable-diffusion-webui/styles.csv /content/drive/MyDrive/AnythingV3.0/"
      ],
      "metadata": {
        "colab": {
          "base_uri": "https://localhost:8080/"
        },
        "id": "Cuk6ydfLQHdn",
        "outputId": "8f479f0e-a91a-4bca-a49e-119b4082c80e"
      },
      "execution_count": null,
      "outputs": [
        {
          "output_type": "stream",
          "name": "stdout",
          "text": [
            "cp: cannot stat '/content/stable-diffusion-webui/config.json': No such file or directory\n",
            "cp: cannot stat '/content/stable-diffusion-webui/styles.csv': No such file or directory\n"
          ]
        }
      ]
    },
    {
      "cell_type": "markdown",
      "source": [
        "##保存圖片"
      ],
      "metadata": {
        "id": "Qc0TRF5vQN4I"
      }
    },
    {
      "cell_type": "markdown",
      "source": [
        "將圖片存在AnythingV3.0 內的 outputs 資料夾中"
      ],
      "metadata": {
        "id": "cM4yvmVvQdFI"
      }
    },
    {
      "cell_type": "code",
      "source": [
        "!cp -r /content/stable-diffusion-webui/outputs /content/drive/MyDrive/AnythingV3.0/"
      ],
      "metadata": {
        "colab": {
          "base_uri": "https://localhost:8080/"
        },
        "id": "PR4ZrTiMQPhR",
        "outputId": "8a3d564a-44e0-466c-e251-c6a47a6417d3"
      },
      "execution_count": null,
      "outputs": [
        {
          "output_type": "stream",
          "name": "stdout",
          "text": [
            "cp: cannot stat '/content/stable-diffusion-webui/outputs': No such file or directory\n"
          ]
        }
      ]
    }
  ]
}