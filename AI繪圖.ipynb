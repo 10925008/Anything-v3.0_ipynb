{
  "nbformat": 4,
  "nbformat_minor": 0,
  "metadata": {
    "colab": {
      "provenance": [],
      "collapsed_sections": [
        "DUzfXosjO4X5"
      ],
      "authorship_tag": "ABX9TyPes3oPNTwDwBY5kmhU+RFS",
      "include_colab_link": true
    },
    "kernelspec": {
      "name": "python3",
      "display_name": "Python 3"
    },
    "language_info": {
      "name": "python"
    },
    "accelerator": "GPU",
    "gpuClass": "standard"
  },
  "cells": [
    {
      "cell_type": "markdown",
      "metadata": {
        "id": "view-in-github",
        "colab_type": "text"
      },
      "source": [
        "<a href=\"https://colab.research.google.com/github/10925008/Anything-v3.0_ipynb/blob/main/AI%E7%B9%AA%E5%9C%96.ipynb\" target=\"_parent\"><img src=\"https://colab.research.google.com/assets/colab-badge.svg\" alt=\"Open In Colab\"/></a>"
      ]
    },
    {
      "cell_type": "markdown",
      "source": [
        "#連接雲端"
      ],
      "metadata": {
        "id": "TS6onnX2N9jK"
      }
    },
    {
      "cell_type": "code",
      "execution_count": 1,
      "metadata": {
        "id": "RFmpzOYKNlaa",
        "colab": {
          "base_uri": "https://localhost:8080/"
        },
        "outputId": "007ee8dc-9fbd-42e0-abca-c610a2eb47ef"
      },
      "outputs": [
        {
          "output_type": "stream",
          "name": "stdout",
          "text": [
            "Mounted at /content/drive/\n"
          ]
        }
      ],
      "source": [
        "from google.colab import drive\n",
        "drive.mount( \"/content/drive/\")"
      ]
    },
    {
      "cell_type": "markdown",
      "source": [
        "#檔案下載\n",
        "\n"
      ],
      "metadata": {
        "id": "DUzfXosjO4X5"
      }
    },
    {
      "cell_type": "markdown",
      "source": [
        "##下載 stable-diffusion-webui"
      ],
      "metadata": {
        "id": "JUxS0go0s8Sn"
      }
    },
    {
      "cell_type": "code",
      "source": [
        "!git clone https://github.com/AUTOMATIC1111/stable-diffusion-webui\n",
        "%cd stable-diffusion-webui\n",
        "!git pull"
      ],
      "metadata": {
        "colab": {
          "base_uri": "https://localhost:8080/"
        },
        "outputId": "1b3b83aa-43da-450d-c7be-f77402e3da98",
        "id": "eQvd3EU9s8St"
      },
      "execution_count": 2,
      "outputs": [
        {
          "output_type": "stream",
          "name": "stdout",
          "text": [
            "Cloning into 'stable-diffusion-webui'...\n",
            "remote: Enumerating objects: 17850, done.\u001b[K\n",
            "remote: Total 17850 (delta 0), reused 0 (delta 0), pack-reused 17850\u001b[K\n",
            "Receiving objects: 100% (17850/17850), 28.29 MiB | 21.48 MiB/s, done.\n",
            "Resolving deltas: 100% (12498/12498), done.\n",
            "/content/stable-diffusion-webui\n",
            "Already up to date.\n"
          ]
        }
      ]
    },
    {
      "cell_type": "markdown",
      "source": [
        "##下載 anything-v3-fp32-pruned.safetensors"
      ],
      "metadata": {
        "id": "7sWnUVZLPGNH"
      }
    },
    {
      "cell_type": "code",
      "source": [
        "%cd /content/drive/MyDrive\n",
        "\n",
        "from google.colab import files\n",
        "import os\n",
        "\n",
        "if not os.path.exists('AnythingV3.0/anything-v3-fp32-pruned.safetensors'):\n",
        "  !mkdir AnythingV3.0\n",
        "  %cd AnythingV3.0\n",
        "  print(\"下載模型...\") \n",
        "  !wget https://huggingface.co/Linaqruf/anything-v3.0/resolve/main/anything-v3-fp32-pruned.safetensors\n",
        "print(\"複製檔案中...\")\n",
        "!cp /content/drive/MyDrive/AnythingV3.0/anything-v3-fp32-pruned.safetensors /content/stable-diffusion-webui/models/Stable-diffusion/"
      ],
      "metadata": {
        "colab": {
          "base_uri": "https://localhost:8080/"
        },
        "id": "95nHERgCPJ8i",
        "outputId": "0536470f-0347-4b8a-fa94-b2e1649d86ea"
      },
      "execution_count": 3,
      "outputs": [
        {
          "output_type": "stream",
          "name": "stdout",
          "text": [
            "/content/drive/MyDrive\n",
            "複製檔案中...\n"
          ]
        }
      ]
    },
    {
      "cell_type": "markdown",
      "source": [
        "#前置作業"
      ],
      "metadata": {
        "id": "nozsBMMCNupB"
      }
    },
    {
      "cell_type": "markdown",
      "source": [
        "##導入模型"
      ],
      "metadata": {
        "id": "0UdijMMCOVh4"
      }
    },
    {
      "cell_type": "code",
      "source": [
        "%cd /content/drive/MyDrive/AnythingV3.0\n",
        "\n",
        "import os\n",
        "\n",
        "if os.path.exists('anything-v3-fp32-pruned.safetensors'):\n",
        "  !cp /content/drive/MyDrive/AnythingV3.0/anything-v3-fp32-pruned.safetensors /content/stable-diffusion-webui/models/Stable-diffusion/"
      ],
      "metadata": {
        "colab": {
          "base_uri": "https://localhost:8080/"
        },
        "id": "Uecds5u0OXG4",
        "outputId": "9a00f553-76ba-46e7-b3c7-4a4e4978fa4b"
      },
      "execution_count": 4,
      "outputs": [
        {
          "output_type": "stream",
          "name": "stdout",
          "text": [
            "/content/drive/MyDrive/AnythingV3.0\n"
          ]
        }
      ]
    },
    {
      "cell_type": "markdown",
      "source": [
        "##導入設定檔"
      ],
      "metadata": {
        "id": "XPh6NxFDOaFI"
      }
    },
    {
      "cell_type": "code",
      "source": [
        "%cd /content/drive/MyDrive/AnythingV3.0\n",
        "\n",
        "import os\n",
        "\n",
        "if os.path.exists('config.json'):\n",
        "  !cp /content/drive/MyDrive/AnythingV3.0/config.json /content/stable-diffusion-webui/\n",
        "if os.path.exists('styles.csv'):\n",
        "  !cp /content/drive/MyDrive/AnythingV3.0/styles.csv /content/stable-diffusion-webui/"
      ],
      "metadata": {
        "colab": {
          "base_uri": "https://localhost:8080/"
        },
        "id": "XEYQVA8ZPghP",
        "outputId": "831c85f2-8c24-4914-b4d2-05ec407244d7"
      },
      "execution_count": 5,
      "outputs": [
        {
          "output_type": "stream",
          "name": "stdout",
          "text": [
            "/content/drive/MyDrive/AnythingV3.0\n"
          ]
        }
      ]
    },
    {
      "cell_type": "markdown",
      "source": [
        "##載入環境"
      ],
      "metadata": {
        "id": "zaerjOhLPjFw"
      }
    },
    {
      "cell_type": "code",
      "source": [
        "%cd /content/stable-diffusion-webui\n",
        "!COMMANDLINE_ARGS=\"--exit\" REQS_FILE=\"requirements.txt\" python launch.py"
      ],
      "metadata": {
        "colab": {
          "base_uri": "https://localhost:8080/"
        },
        "id": "Fb0UJ8qPPnEA",
        "outputId": "cc193213-dd4e-4b7f-c335-413fa43a1d14"
      },
      "execution_count": null,
      "outputs": [
        {
          "output_type": "stream",
          "name": "stdout",
          "text": [
            "/content/stable-diffusion-webui\n",
            "Python 3.9.16 (main, Dec  7 2022, 01:11:51) \n",
            "[GCC 9.4.0]\n",
            "Commit hash: 22bcc7be428c94e9408f589966c2040187245d81\n",
            "Installing gfpgan\n",
            "Installing clip\n",
            "Installing open_clip\n",
            "Cloning Stable Diffusion into /content/stable-diffusion-webui/repositories/stable-diffusion-stability-ai...\n",
            "Cloning Taming Transformers into /content/stable-diffusion-webui/repositories/taming-transformers...\n"
          ]
        }
      ]
    },
    {
      "cell_type": "markdown",
      "source": [
        "#執行程式"
      ],
      "metadata": {
        "id": "7bQke2fZPwV_"
      }
    },
    {
      "cell_type": "code",
      "source": [
        "%cd /content/AnythingV3.0/stable-diffusion-webui\n",
        "!COMMANDLINE_ARGS=\"--share --gradio-debug\" REQS_FILE=\"requirements.txt\" python launch.py"
      ],
      "metadata": {
        "id": "rLyni0KMPyVH",
        "colab": {
          "base_uri": "https://localhost:8080/"
        },
        "outputId": "41e3a7aa-2469-4025-f738-e794e17e2cfe"
      },
      "execution_count": 8,
      "outputs": [
        {
          "output_type": "stream",
          "name": "stdout",
          "text": [
            "[Errno 2] No such file or directory: '/content/AnythingV3.0/stable-diffusion-webui'\n",
            "/content/stable-diffusion-webui\n",
            "Python 3.9.16 (main, Dec  7 2022, 01:11:51) \n",
            "[GCC 9.4.0]\n",
            "Commit hash: 22bcc7be428c94e9408f589966c2040187245d81\n",
            "Installing requirements for Web UI\n",
            "Launching Web UI with arguments: --share --gradio-debug\n",
            "2023-04-17 03:00:02.741116: I tensorflow/core/platform/cpu_feature_guard.cc:182] This TensorFlow binary is optimized to use available CPU instructions in performance-critical operations.\n",
            "To enable the following instructions: AVX2 FMA, in other operations, rebuild TensorFlow with the appropriate compiler flags.\n",
            "2023-04-17 03:00:04.817866: W tensorflow/compiler/tf2tensorrt/utils/py_utils.cc:38] TF-TRT Warning: Could not find TensorRT\n",
            "No module 'xformers'. Proceeding without it.\n",
            "/usr/local/lib/python3.9/dist-packages/torchvision/transforms/functional_tensor.py:5: UserWarning: The torchvision.transforms.functional_tensor module is deprecated in 0.15 and will be **removed in 0.17**. Please don't rely on it. You probably just need to use APIs in torchvision.transforms.functional or in torchvision.transforms.v2.functional.\n",
            "  warnings.warn(\n",
            "Calculating sha256 for /content/stable-diffusion-webui/models/Stable-diffusion/anything-v3-fp32-pruned.safetensors: 308884898741f81f4dbe32a7806a26c28b594d8ea21310fbed5c5dcecff6aa32\n",
            "Loading weights [3088848987] from /content/stable-diffusion-webui/models/Stable-diffusion/anything-v3-fp32-pruned.safetensors\n",
            "Creating model from config: /content/stable-diffusion-webui/configs/v1-inference.yaml\n",
            "LatentDiffusion: Running in eps-prediction mode\n",
            "DiffusionWrapper has 859.52 M params.\n",
            "Downloading (…)olve/main/vocab.json: 100% 961k/961k [00:00<00:00, 5.92MB/s]\n",
            "Downloading (…)olve/main/merges.txt: 100% 525k/525k [00:00<00:00, 5.90MB/s]\n",
            "Downloading (…)cial_tokens_map.json: 100% 389/389 [00:00<00:00, 140kB/s]\n",
            "Downloading (…)okenizer_config.json: 100% 905/905 [00:00<00:00, 395kB/s]\n",
            "Downloading (…)lve/main/config.json: 100% 4.52k/4.52k [00:00<00:00, 671kB/s]\n",
            "Applying cross attention optimization (Doggettx).\n",
            "Textual inversion embeddings loaded(0): \n",
            "Model loaded in 43.2s (calculate hash: 26.2s, load weights from disk: 0.3s, create model: 2.0s, apply weights to model: 5.1s, apply half(): 1.1s, load VAE: 7.7s, move model to device: 0.8s).\n",
            "Running on local URL:  http://127.0.0.1:7860\n",
            "Running on public URL: https://49af0bd397a5f4575f.gradio.live\n",
            "\n",
            "This share link expires in 72 hours. For free permanent hosting and GPU upgrades (NEW!), check out Spaces: https://huggingface.co/spaces\n",
            "  0% 0/20 [00:00<?, ?it/s]\n",
            "  5% 1/20 [00:07<02:19,  7.37s/it]\n",
            " 10% 2/20 [00:07<00:56,  3.15s/it]\n",
            " 15% 3/20 [00:07<00:30,  1.79s/it]\n",
            " 20% 4/20 [00:07<00:18,  1.16s/it]\n",
            " 25% 5/20 [00:08<00:12,  1.24it/s]\n",
            " 30% 6/20 [00:08<00:08,  1.67it/s]\n",
            " 35% 7/20 [00:08<00:06,  2.16it/s]\n",
            " 40% 8/20 [00:08<00:04,  2.69it/s]\n",
            " 45% 9/20 [00:08<00:03,  3.20it/s]\n",
            " 50% 10/20 [00:09<00:02,  3.69it/s]\n",
            " 55% 11/20 [00:09<00:02,  4.11it/s]\n",
            " 60% 12/20 [00:09<00:01,  4.43it/s]\n",
            " 65% 13/20 [00:09<00:01,  4.72it/s]\n",
            " 70% 14/20 [00:09<00:01,  4.94it/s]\n",
            " 75% 15/20 [00:09<00:00,  5.10it/s]\n",
            " 80% 16/20 [00:10<00:00,  5.21it/s]\n",
            " 85% 17/20 [00:10<00:00,  5.29it/s]\n",
            " 90% 18/20 [00:10<00:00,  5.35it/s]\n",
            " 95% 19/20 [00:10<00:00,  5.40it/s]\n",
            "100% 20/20 [00:10<00:00,  1.84it/s]\n",
            "\n",
            "Total progress: 100% 20/20 [00:05<00:00,  3.58it/s]\n",
            "Error: no \"view\" mailcap rules found for type \"inode/directory\"\n",
            "/usr/bin/xdg-open: 869: www-browser: not found\n",
            "/usr/bin/xdg-open: 869: links2: not found\n",
            "/usr/bin/xdg-open: 869: elinks: not found\n",
            "/usr/bin/xdg-open: 869: links: not found\n",
            "/usr/bin/xdg-open: 869: lynx: not found\n",
            "/usr/bin/xdg-open: 869: w3m: not found\n",
            "xdg-open: no method available for opening 'outputs/txt2img-images'\n",
            "Interrupted with signal 2 in <frame at 0x37a32b10, file '/usr/local/lib/python3.9/dist-packages/gradio/blocks.py', line 1735, code block_thread>\n"
          ]
        }
      ]
    },
    {
      "cell_type": "markdown",
      "source": [
        "執行後點擊 \"Running on public URL\" 的連結即可使用"
      ],
      "metadata": {
        "id": "f6oWyLd9Sa4X"
      }
    },
    {
      "cell_type": "markdown",
      "source": [
        "#保存作業(需先停止\"執行程式\"後才可執行)"
      ],
      "metadata": {
        "id": "x9-LfJ18QFO_"
      }
    },
    {
      "cell_type": "markdown",
      "source": [
        "需先停止\"執行程式\"後才可執行"
      ],
      "metadata": {
        "id": "UGiVl1sEQkL4"
      }
    },
    {
      "cell_type": "markdown",
      "source": [
        "##保存設定檔"
      ],
      "metadata": {
        "id": "4YMVsH_1QIsQ"
      }
    },
    {
      "cell_type": "code",
      "source": [
        "!cp -r /content/stable-diffusion-webui/config.json /content/drive/MyDrive/AnythingV3.0/\n",
        "!cp -r /content/stable-diffusion-webui/styles.csv /content/drive/MyDrive/AnythingV3.0/"
      ],
      "metadata": {
        "colab": {
          "base_uri": "https://localhost:8080/"
        },
        "id": "Cuk6ydfLQHdn",
        "outputId": "3891760f-6b3b-4a3a-924f-650f3001a5cb"
      },
      "execution_count": 9,
      "outputs": [
        {
          "output_type": "stream",
          "name": "stdout",
          "text": [
            "cp: cannot stat '/content/stable-diffusion-webui/config.json': No such file or directory\n",
            "cp: cannot stat '/content/stable-diffusion-webui/styles.csv': No such file or directory\n"
          ]
        }
      ]
    },
    {
      "cell_type": "markdown",
      "source": [
        "##保存圖片"
      ],
      "metadata": {
        "id": "Qc0TRF5vQN4I"
      }
    },
    {
      "cell_type": "markdown",
      "source": [
        "將圖片存在AnythingV3.0 內的 outputs 資料夾中"
      ],
      "metadata": {
        "id": "cM4yvmVvQdFI"
      }
    },
    {
      "cell_type": "code",
      "source": [
        "!cp -r /content/stable-diffusion-webui/outputs /content/drive/MyDrive/AnythingV3.0/"
      ],
      "metadata": {
        "id": "PR4ZrTiMQPhR"
      },
      "execution_count": 10,
      "outputs": []
    }
  ]
}